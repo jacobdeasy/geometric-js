{
 "cells": [
  {
   "cell_type": "code",
   "execution_count": 2,
   "metadata": {},
   "outputs": [],
   "source": [
    "import matplotlib as mpl\n",
    "import matplotlib.pyplot as plt\n",
    "import numpy as np\n",
    "import os\n",
    "BASE_DIR=os.path.dirname(os.getcwd())\n",
    "import sys\n",
    "sys.path.append(BASE_DIR)\n",
    "import torch\n",
    "\n",
    "from PIL import Image\n",
    "from PIL import GifImagePlugin\n",
    "\n",
    "from vae.utils.modelIO import save_model, load_model, load_metadata\n",
    "from notebooks.utils import PlotParams"
   ]
  },
  {
   "cell_type": "code",
   "execution_count": 3,
   "metadata": {},
   "outputs": [],
   "source": [
    "plotter = PlotParams()\n",
    "plotter.set_params()\n",
    "FIG_DIR = os.path.join(BASE_DIR, 'figs')\n",
    "RES_DIR = os.path.join(BASE_DIR, 'results')"
   ]
  },
  {
   "cell_type": "code",
   "execution_count": 4,
   "metadata": {},
   "outputs": [
    {
     "output_type": "stream",
     "name": "stdout",
     "text": "\n['fashion_dgjs-0.1', 'fashion_dgjs-0.2', 'fashion_dgjs-0.3', 'fashion_dgjs-0.4', 'fashion_dgjs-0.5', 'fashion_dgjs-0.6', 'fashion_dgjs-0.7', 'fashion_dgjs-0.8', 'fashion_dgjs-0.9', 'fashion_kl', 'fashion_mmd']\n11\n"
    }
   ],
   "source": [
    "# model = 'gjs'\n",
    "# model = 'dgjs'\n",
    "# model = 'noise_test_gjs'\n",
    "model = 'fashion_dgjs'\n",
    "# model = 'chairs_dgjs'\n",
    "# model = 'dsprites_dgjs'\n",
    "alphas = [0.1, 0.2, 0.3, 0.4, 0.5, 0.6, 0.7, 0.8, 0.9]\n",
    "model_names = [model+'-'+str(a) for a in alphas]\n",
    "alphas += ['kl', 'mmd']\n",
    "print()\n",
    "# model_names += ['mnist_kl']\n",
    "model_names += ['fashion_kl', 'fashion_mmd']\n",
    "print(model_names)\n",
    "n = len(model_names)\n",
    "print(n)"
   ]
  },
  {
   "cell_type": "code",
   "execution_count": 5,
   "metadata": {
    "tags": [
     "outputPrepend"
    ]
   },
   "outputs": [],
   "source": [
    "model_dict = {}\n",
    "for a, model_name in zip(alphas, model_names):\n",
    "    model_dict[a] = load_model(os.path.join(RES_DIR, model_name))"
   ]
  },
  {
   "cell_type": "code",
   "execution_count": 6,
   "metadata": {},
   "outputs": [
    {
     "output_type": "stream",
     "name": "stdout",
     "text": "0.1\n0.2\n0.3\n0.4\n0.5\n0.6\n0.7\n0.8\n0.9\nkl\nmmd\n"
    }
   ],
   "source": [
    "for i, a in enumerate(alphas):\n",
    "    print(a)\n",
    "    imageObject = Image.open(os.path.join(RES_DIR, model_names[i], 'training.gif'))\n",
    "    imageObject.seek(imageObject.n_frames-1)\n",
    "    imageObject.show()\n",
    "    imageObject.save(os.path.join(FIG_DIR, model+'-'+str(a)+'_grid.png'))"
   ]
  },
  {
   "cell_type": "code",
   "execution_count": null,
   "metadata": {},
   "outputs": [],
   "source": []
  }
 ],
 "metadata": {
  "language_info": {
   "codemirror_mode": {
    "name": "ipython",
    "version": 3
   },
   "file_extension": ".py",
   "mimetype": "text/x-python",
   "name": "python",
   "nbconvert_exporter": "python",
   "pygments_lexer": "ipython3",
   "version": "3.7.7-final"
  },
  "orig_nbformat": 2,
  "kernelspec": {
   "name": "python37764bit300a028a89174507b581fdf390bc3083",
   "display_name": "Python 3.7.7 64-bit"
  }
 },
 "nbformat": 4,
 "nbformat_minor": 2
}