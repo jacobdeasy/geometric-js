{
 "cells": [
  {
   "cell_type": "code",
   "execution_count": 2,
   "metadata": {},
   "outputs": [],
   "source": [
    "import matplotlib as mpl\n",
    "import matplotlib.pyplot as plt\n",
    "import numpy as np\n",
    "import os\n",
    "BASE_DIR=os.path.dirname(os.getcwd())\n",
    "import sys\n",
    "sys.path.append(BASE_DIR)\n",
    "import torch\n",
    "\n",
    "from PIL import Image\n",
    "from PIL import GifImagePlugin\n",
    "\n",
    "from vae.utils.modelIO import save_model, load_model, load_metadata\n",
    "from notebooks.utils import PlotParams"
   ]
  },
  {
   "cell_type": "code",
   "execution_count": 3,
   "metadata": {},
   "outputs": [],
   "source": [
    "plotter = PlotParams()\n",
    "plotter.set_params()\n",
    "FIG_DIR = os.path.join(BASE_DIR, 'figs')\n",
    "RES_DIR = os.path.join(BASE_DIR, 'results')"
   ]
  },
  {
   "cell_type": "code",
   "execution_count": 4,
   "metadata": {},
   "outputs": [
    {
     "output_type": "execute_result",
     "data": {
      "text/plain": "<matplotlib.image.AxesImage at 0x2cdebd80f88>"
     },
     "metadata": {},
     "execution_count": 4
    },
    {
     "output_type": "display_data",
     "data": {
      "text/plain": "<Figure size 432x288 with 1 Axes>",
      "image/svg+xml": "<?xml version=\"1.0\" encoding=\"utf-8\" standalone=\"no\"?>\r\n<!DOCTYPE svg PUBLIC \"-//W3C//DTD SVG 1.1//EN\"\r\n  \"http://www.w3.org/Graphics/SVG/1.1/DTD/svg11.dtd\">\r\n<!-- Created with matplotlib (https://matplotlib.org/) -->\r\n<svg height=\"63.508281pt\" version=\"1.1\" viewBox=\"0 0 396.695938 63.508281\" width=\"396.695938pt\" xmlns=\"http://www.w3.org/2000/svg\" xmlns:xlink=\"http://www.w3.org/1999/xlink\">\r\n <defs>\r\n  <style type=\"text/css\">\r\n*{stroke-linecap:butt;stroke-linejoin:round;}\r\n  </style>\r\n </defs>\r\n <g id=\"figure_1\">\r\n  <g id=\"patch_1\">\r\n   <path d=\"M 0 63.508281 \r\nL 396.695938 63.508281 \r\nL 396.695938 0 \r\nL 0 0 \r\nz\r\n\" style=\"fill:none;\"/>\r\n  </g>\r\n  <g id=\"axes_1\">\r\n   <g id=\"patch_2\">\r\n    <path d=\"M 54.695938 29.258906 \r\nL 389.495938 29.258906 \r\nL 389.495938 12.518906 \r\nL 54.695938 12.518906 \r\nz\r\n\" style=\"fill:#ffffff;\"/>\r\n   </g>\r\n   <g clip-path=\"url(#pdaeeaa474a)\">\r\n    <image height=\"17\" id=\"imageabb18ce18a\" transform=\"scale(1 -1)translate(0 -17)\" width=\"335\" x=\"54.695938\" xlink:href=\"data:image/png;base64,\r\niVBORw0KGgoAAAANSUhEUgAAAU8AAAARCAYAAABdPi7BAAAABHNCSVQICAgIfAhkiAAAAMZJREFUeJzt1M1pAlEYhtG5Iv4wLty6Eu3AJkRsIx2ktEBaSCkBtyYL0RHt4Xvdec7+vnwMw9MOm89HF/r++YreH3f79IRu2K7ijf/1PN64LFv0/m8bn9ANi3u80foh3pj11+j9annOb/iIf+/u/nuKNx637Fu08Ti+oU2n8cYrtEWfDQz5v9kmk3hjFC8AvCHxBCgQT4AC8QQoEE+AAvEEKBBPgALxBCgQT4AC8QQoEE+AAvEEKBBPgALxBCgQT4AC8QQoeAJ6pBfv2bl9xAAAAABJRU5ErkJggg==\" y=\"-12.258906\"/>\r\n   </g>\r\n   <g id=\"matplotlib.axis_1\">\r\n    <g id=\"xtick_1\">\r\n     <g id=\"line2d_1\">\r\n      <defs>\r\n       <path d=\"M 0 0 \r\nL 0 10 \r\n\" id=\"m9a15af0434\" style=\"stroke:#000000;\"/>\r\n      </defs>\r\n      <g>\r\n       <use style=\"stroke:#000000;\" x=\"63.065938\" xlink:href=\"#m9a15af0434\" y=\"29.258906\"/>\r\n      </g>\r\n     </g>\r\n     <g id=\"text_1\">\r\n      <!-- 0 -->\r\n      <defs>\r\n       <path d=\"M 31.78125 3.421875 \r\nQ 39.265625 3.421875 42.96875 11.625 \r\nQ 46.6875 19.828125 46.6875 36.375 \r\nQ 46.6875 52.984375 42.96875 61.1875 \r\nQ 39.265625 69.390625 31.78125 69.390625 \r\nQ 24.3125 69.390625 20.59375 61.1875 \r\nQ 16.890625 52.984375 16.890625 36.375 \r\nQ 16.890625 19.828125 20.59375 11.625 \r\nQ 24.3125 3.421875 31.78125 3.421875 \r\nz\r\nM 31.78125 -1.421875 \r\nQ 19.921875 -1.421875 13.25 8.53125 \r\nQ 6.59375 18.5 6.59375 36.375 \r\nQ 6.59375 54.296875 13.25 64.25 \r\nQ 19.921875 74.21875 31.78125 74.21875 \r\nQ 43.703125 74.21875 50.34375 64.25 \r\nQ 56.984375 54.296875 56.984375 36.375 \r\nQ 56.984375 18.5 50.34375 8.53125 \r\nQ 43.703125 -1.421875 31.78125 -1.421875 \r\nz\r\n\" id=\"DejaVuSerif-48\"/>\r\n      </defs>\r\n      <g transform=\"translate(58.612188 53.396719)scale(0.14 -0.14)\">\r\n       <use xlink:href=\"#DejaVuSerif-48\"/>\r\n      </g>\r\n     </g>\r\n    </g>\r\n    <g id=\"xtick_2\">\r\n     <g id=\"line2d_2\">\r\n      <g>\r\n       <use style=\"stroke:#000000;\" x=\"146.765938\" xlink:href=\"#m9a15af0434\" y=\"29.258906\"/>\r\n      </g>\r\n     </g>\r\n     <g id=\"text_2\">\r\n      <!-- 5 -->\r\n      <defs>\r\n       <path d=\"M 50.296875 72.90625 \r\nL 50.296875 64.890625 \r\nL 16.890625 64.890625 \r\nL 16.890625 44 \r\nQ 19.4375 45.75 22.828125 46.625 \r\nQ 26.21875 47.515625 30.421875 47.515625 \r\nQ 42.234375 47.515625 49.0625 40.96875 \r\nQ 55.90625 34.421875 55.90625 23.09375 \r\nQ 55.90625 11.53125 49 5.046875 \r\nQ 42.09375 -1.421875 29.59375 -1.421875 \r\nQ 24.5625 -1.421875 19.28125 -0.1875 \r\nQ 14.015625 1.03125 8.5 3.515625 \r\nL 8.5 17.671875 \r\nL 14.015625 17.671875 \r\nQ 14.453125 10.75 18.421875 7.078125 \r\nQ 22.40625 3.421875 29.59375 3.421875 \r\nQ 37.3125 3.421875 41.453125 8.5 \r\nQ 45.609375 13.578125 45.609375 23.09375 \r\nQ 45.609375 32.5625 41.484375 37.609375 \r\nQ 37.359375 42.671875 29.59375 42.671875 \r\nQ 25.203125 42.671875 21.84375 41.109375 \r\nQ 18.5 39.546875 15.921875 36.28125 \r\nL 11.71875 36.28125 \r\nL 11.71875 72.90625 \r\nz\r\n\" id=\"DejaVuSerif-53\"/>\r\n      </defs>\r\n      <g transform=\"translate(142.312187 53.396719)scale(0.14 -0.14)\">\r\n       <use xlink:href=\"#DejaVuSerif-53\"/>\r\n      </g>\r\n     </g>\r\n    </g>\r\n    <g id=\"xtick_3\">\r\n     <g id=\"line2d_3\">\r\n      <g>\r\n       <use style=\"stroke:#000000;\" x=\"230.465938\" xlink:href=\"#m9a15af0434\" y=\"29.258906\"/>\r\n      </g>\r\n     </g>\r\n     <g id=\"text_3\">\r\n      <!-- 10 -->\r\n      <defs>\r\n       <path d=\"M 14.203125 0 \r\nL 14.203125 5.171875 \r\nL 26.90625 5.171875 \r\nL 26.90625 65.828125 \r\nL 12.203125 56.296875 \r\nL 12.203125 62.703125 \r\nL 29.984375 74.21875 \r\nL 36.71875 74.21875 \r\nL 36.71875 5.171875 \r\nL 49.421875 5.171875 \r\nL 49.421875 0 \r\nz\r\n\" id=\"DejaVuSerif-49\"/>\r\n      </defs>\r\n      <g transform=\"translate(221.558438 53.396719)scale(0.14 -0.14)\">\r\n       <use xlink:href=\"#DejaVuSerif-49\"/>\r\n       <use x=\"63.623047\" xlink:href=\"#DejaVuSerif-48\"/>\r\n      </g>\r\n     </g>\r\n    </g>\r\n    <g id=\"xtick_4\">\r\n     <g id=\"line2d_4\">\r\n      <g>\r\n       <use style=\"stroke:#000000;\" x=\"314.165938\" xlink:href=\"#m9a15af0434\" y=\"29.258906\"/>\r\n      </g>\r\n     </g>\r\n     <g id=\"text_4\">\r\n      <!-- 15 -->\r\n      <g transform=\"translate(305.258438 53.396719)scale(0.14 -0.14)\">\r\n       <use xlink:href=\"#DejaVuSerif-49\"/>\r\n       <use x=\"63.623047\" xlink:href=\"#DejaVuSerif-53\"/>\r\n      </g>\r\n     </g>\r\n    </g>\r\n   </g>\r\n   <g id=\"matplotlib.axis_2\">\r\n    <g id=\"ytick_1\">\r\n     <g id=\"line2d_5\">\r\n      <defs>\r\n       <path d=\"M 0 0 \r\nL -10 0 \r\n\" id=\"m41e3b57add\" style=\"stroke:#000000;\"/>\r\n      </defs>\r\n      <g>\r\n       <use style=\"stroke:#000000;\" x=\"54.695938\" xlink:href=\"#m41e3b57add\" y=\"12.518906\"/>\r\n      </g>\r\n     </g>\r\n     <g id=\"text_5\">\r\n      <!-- −0.5 -->\r\n      <defs>\r\n       <path d=\"M 10.59375 35.296875 \r\nL 73.1875 35.296875 \r\nL 73.1875 27.390625 \r\nL 10.59375 27.390625 \r\nz\r\n\" id=\"DejaVuSerif-8722\"/>\r\n       <path d=\"M 9.421875 5.078125 \r\nQ 9.421875 7.8125 11.28125 9.71875 \r\nQ 13.140625 11.625 15.921875 11.625 \r\nQ 18.609375 11.625 20.5 9.71875 \r\nQ 22.40625 7.8125 22.40625 5.078125 \r\nQ 22.40625 2.390625 20.5 0.484375 \r\nQ 18.609375 -1.421875 15.921875 -1.421875 \r\nQ 13.140625 -1.421875 11.28125 0.453125 \r\nQ 9.421875 2.34375 9.421875 5.078125 \r\nz\r\n\" id=\"DejaVuSerif-46\"/>\r\n      </defs>\r\n      <g transform=\"translate(7.2 17.837812)scale(0.14 -0.14)\">\r\n       <use xlink:href=\"#DejaVuSerif-8722\"/>\r\n       <use x=\"83.789062\" xlink:href=\"#DejaVuSerif-48\"/>\r\n       <use x=\"147.412109\" xlink:href=\"#DejaVuSerif-46\"/>\r\n       <use x=\"179.199219\" xlink:href=\"#DejaVuSerif-53\"/>\r\n      </g>\r\n     </g>\r\n    </g>\r\n    <g id=\"ytick_2\">\r\n     <g id=\"line2d_6\">\r\n      <g>\r\n       <use style=\"stroke:#000000;\" x=\"54.695938\" xlink:href=\"#m41e3b57add\" y=\"20.888906\"/>\r\n      </g>\r\n     </g>\r\n     <g id=\"text_6\">\r\n      <!-- 0.0 -->\r\n      <g transform=\"translate(18.931563 26.207813)scale(0.14 -0.14)\">\r\n       <use xlink:href=\"#DejaVuSerif-48\"/>\r\n       <use x=\"63.623047\" xlink:href=\"#DejaVuSerif-46\"/>\r\n       <use x=\"95.410156\" xlink:href=\"#DejaVuSerif-48\"/>\r\n      </g>\r\n     </g>\r\n    </g>\r\n    <g id=\"ytick_3\">\r\n     <g id=\"line2d_7\">\r\n      <g>\r\n       <use style=\"stroke:#000000;\" x=\"54.695938\" xlink:href=\"#m41e3b57add\" y=\"29.258906\"/>\r\n      </g>\r\n     </g>\r\n     <g id=\"text_7\">\r\n      <!-- 0.5 -->\r\n      <g transform=\"translate(18.931563 34.577813)scale(0.14 -0.14)\">\r\n       <use xlink:href=\"#DejaVuSerif-48\"/>\r\n       <use x=\"63.623047\" xlink:href=\"#DejaVuSerif-46\"/>\r\n       <use x=\"95.410156\" xlink:href=\"#DejaVuSerif-53\"/>\r\n      </g>\r\n     </g>\r\n    </g>\r\n   </g>\r\n   <g id=\"patch_3\">\r\n    <path d=\"M 54.695938 29.258906 \r\nL 54.695938 12.518906 \r\n\" style=\"fill:none;stroke:#000000;stroke-linecap:square;stroke-linejoin:miter;stroke-width:1.3;\"/>\r\n   </g>\r\n   <g id=\"patch_4\">\r\n    <path d=\"M 389.495938 29.258906 \r\nL 389.495938 12.518906 \r\n\" style=\"fill:none;stroke:#000000;stroke-linecap:square;stroke-linejoin:miter;stroke-width:1.3;\"/>\r\n   </g>\r\n   <g id=\"patch_5\">\r\n    <path d=\"M 54.695937 29.258906 \r\nL 389.495938 29.258906 \r\n\" style=\"fill:none;stroke:#000000;stroke-linecap:square;stroke-linejoin:miter;stroke-width:1.3;\"/>\r\n   </g>\r\n   <g id=\"patch_6\">\r\n    <path d=\"M 54.695937 12.518906 \r\nL 389.495938 12.518906 \r\n\" style=\"fill:none;stroke:#000000;stroke-linecap:square;stroke-linejoin:miter;stroke-width:1.3;\"/>\r\n   </g>\r\n  </g>\r\n </g>\r\n <defs>\r\n  <clipPath id=\"pdaeeaa474a\">\r\n   <rect height=\"16.74\" width=\"334.8\" x=\"54.695938\" y=\"12.518906\"/>\r\n  </clipPath>\r\n </defs>\r\n</svg>\r\n",
      "image/png": "[encoded data removed]"
     },
     "metadata": {
      "needs_background": "light"
     }
    }
   ],
   "source": [
    "performance_matrix = np.zeros((2, len(models)))\n",
    "\n",
    "models = ['mnist_kl', 'mnist_kl_reverse']\n",
    "models += ['gjs-0.1', 'gjs-0.2', 'gjs-0.3', 'gjs-0.4', 'gjs-0.5', 'gjs-0.6', 'gjs-0.7', 'gjs-0.8', 'gjs-0.9']\n",
    "models += ['dgjs-0.1', 'dgjs-0.2', 'dgjs-0.3', 'dgjs-0.4', 'dgjs-0.5', 'dgjs-0.6', 'dgjs-0.7', 'dgjs-0.8', 'dgjs-0.9']\n",
    "\n",
    "for i, model in enumerate(models):\n",
    "    d = load_metadata(directory=os.path.join(RES_DIR, model), filename='test_eval.log')\n",
    "    performance_matrix[0, i] = d['recon_loss']\n",
    "\n",
    "models = ['fashion_kl', 'fashion_kl_reverse']\n",
    "models += ['fashion_gjs-0.1', 'fashion_gjs-0.2', 'fashion_gjs-0.3', 'fashion_gjs-0.4', 'fashion_gjs-0.5', 'fashion_gjs-0.6', 'fashion_gjs-0.7', 'fashion_gjs-0.8', 'fashion_gjs-0.9']\n",
    "models += ['fashion_dgjs-0.1', 'fashion_dgjs-0.2', 'fashion_dgjs-0.3', 'fashion_dgjs-0.4', 'fashion_dgjs-0.5', 'fashion_dgjs-0.6', 'fashion_dgjs-0.7', 'fashion_dgjs-0.8', 'fashion_dgjs-0.9']\n",
    "\n",
    "for i, model in enumerate(models):\n",
    "    d = load_metadata(directory=os.path.join(RES_DIR, model), filename='test_eval.log')\n",
    "    performance_matrix[0, i] = d['recon_loss']\n",
    "\n",
    "models = ['dsprites_kl', 'dsprites_kl_reverse']\n",
    "models += ['dsprites_gjs-0.1', 'dsprites_gjs-0.2', 'dsprites_gjs-0.3', 'dsprites_gjs-0.4', 'dsprites_gjs-0.5', 'dsprites_gjs-0.6', 'dsprites_gjs-0.7', 'dsprites_gjs-0.8', 'dsprites_gjs-0.9']\n",
    "models += ['dsprites_dgjs-0.1', 'dsprites_dgjs-0.2', 'dsprites_dgjs-0.3', 'dsprites_dgjs-0.4', 'dsprites_dgjs-0.5', 'dsprites_dgjs-0.6', 'dsprites_dgjs-0.7', 'dsprites_dgjs-0.8', 'dsprites_dgjs-0.9']\n",
    "\n",
    "for i, model in enumerate(models):\n",
    "    d = load_metadata(directory=os.path.join(RES_DIR, model), filename='test_eval.log')\n",
    "    performance_matrix[0, i] = d['recon_loss']\n",
    "\n",
    "plt.imshow(performance_matrix)"
   ]
  },
  {
   "cell_type": "code",
   "execution_count": null,
   "metadata": {},
   "outputs": [],
   "source": []
  }
 ],
 "metadata": {
  "language_info": {
   "codemirror_mode": {
    "name": "ipython",
    "version": 3
   },
   "file_extension": ".py",
   "mimetype": "text/x-python",
   "name": "python",
   "nbconvert_exporter": "python",
   "pygments_lexer": "ipython3",
   "version": "3.7.7-final"
  },
  "orig_nbformat": 2,
  "kernelspec": {
   "name": "python37764bit300a028a89174507b581fdf390bc3083",
   "display_name": "Python 3.7.7 64-bit"
  }
 },
 "nbformat": 4,
 "nbformat_minor": 2
}